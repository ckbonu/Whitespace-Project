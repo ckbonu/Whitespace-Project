{
 "cells": [
  {
   "cell_type": "code",
   "execution_count": 8,
   "metadata": {},
   "outputs": [],
   "source": [
    "import pandas as pd\n",
    "df_npa = pd.read_csv(r\"C:\\Users\\KC\\Desktop\\WhitespaceProject\\NPA_Processed.csv\")\n",
    "df_macola = pd.read_csv(r\"C:\\Users\\KC\\Desktop\\WhitespaceProject\\Macola.csv\")\n",
    "df_npa = df_npa[df_npa.columns.drop(list(df_npa.filter(regex='Other Provider Identifier')))]\n",
    "df_npa = df_npa[df_npa.columns.drop(list(df_npa.filter(regex='Healthcare Provider Taxonomy')))] \n",
    "df_npa = df_npa[df_npa.columns.drop(list(df_npa.filter(regex='Healthcare Provider Primary Taxonomy')))]\n",
    "df_npa = df_npa[df_npa.columns.drop(list(df_npa.filter(regex='Provider License Numb')))]"
   ]
  },
  {
   "cell_type": "code",
   "execution_count": 8,
   "metadata": {},
   "outputs": [
    {
     "name": "stderr",
     "output_type": "stream",
     "text": [
      "C:\\Users\\KC\\AppData\\Local\\Continuum\\anaconda3\\lib\\site-packages\\IPython\\core\\interactiveshell.py:3049: DtypeWarning: Columns (0,1,2,12,17,19,24,26,27,32,34,35,38,39,40,46,68,69,72,73,75,76,77,78,79,80,81,82,83,84,85,86,87,88,89,90,91,92,93,94,95,96,97,98,99,100,101,102,103,104,105,106,108,112,115,116,117,118,119,120,121,122,123,124,125,126,127,128,129,130,131,132,133,134,135,136,137,138,139,140,141,142,143,144,145,146,147,148,149,150,151,152,153,154,155,156,157,158,159,160,161,162,163,164,165,166,167,168,169,170,171,172,173,174,175,176,177,178,179,180,181,182,183,184,185,186,187,188,189,190,191,192,193,194,195,196,197,198,199,200,201,202,203,204,205,206,207,208,209,210,211,212,213,214,215,216,217,218,219,220,221,222,223,224,225,226,227,228,229,230,231,232,233,234,235,236,237,238,239,240,241,242,243,244,245,246,247,248,249,250,251,252,253,254,255,256,257,258,259,260,261,262,263,264,265,266,267,268,269,270,271,272,273,274,275,276,277,278,279,280,281,282,283,284,285,286,287,288,289,290,291,292,293,294,295,296,297,298,299,300,301,302,303,304,305,306,320,321,322,323,324,325,326,327,328) have mixed types. Specify dtype option on import or set low_memory=False.\n",
      "  interactivity=interactivity, compiler=compiler, result=result)\n"
     ]
    }
   ],
   "source": []
  },
  {
   "cell_type": "code",
   "execution_count": 9,
   "metadata": {},
   "outputs": [],
   "source": [
    "npa_index = []\n",
    "accountnames = df_macola['Account Name'].tolist()\n",
    "address = df_macola['Shipping Street'].tolist()\n",
    "df_npa_stage1 = df_npa.dropna(subset=['Provider Organization Name (Legal Business Name)'])\n",
    "for index, row in df_npa_stage1.iterrows():\n",
    "    if (row['Provider Organization Name (Legal Business Name)'] in accountnames) & (row['Provider First Line Business Mailing Address'] in address):\n",
    "        npa_index.append(index)\n",
    "    \n",
    "#print(npa_index)"
   ]
  },
  {
   "cell_type": "code",
   "execution_count": 10,
   "metadata": {},
   "outputs": [],
   "source": [
    "df_test = df_npa_stage1\n",
    "df_test_npa = df_npa\n",
    "for item in npa_index:\n",
    "    a=df_npa_stage1.loc[df_npa_stage1.index == item, 'Provider Business Mailing Address Telephone Number'].iloc[0]\n",
    "    b=df_npa_stage1.loc[df_npa_stage1.index == item, 'Provider Organization Name (Legal Business Name)'].iloc[0]\n",
    "    a_macola = df_macola.loc[df_macola['Account Name'] == b, 'Phone'].iloc[0]\n",
    "    if a!=a_macola:\n",
    "        '''SQL query to update the value with current value from NPA DB\"'''  \n",
    "    c=df_npa_stage1.loc[df_npa_stage1.index == item, 'Provider Business Mailing Address Telephone Number'].iloc[0]\n",
    "    b=df_npa_stage1.loc[df_npa_stage1.index == item, 'Provider Organization Name (Legal Business Name)'].iloc[0]\n",
    "    a_macola = df_macola.loc[df_macola['Account Name'] == b, 'Phone'].iloc[0]"
   ]
  },
  {
   "cell_type": "code",
   "execution_count": 11,
   "metadata": {},
   "outputs": [
    {
     "name": "stdout",
     "output_type": "stream",
     "text": [
      "['20/20 OPTICAL / Dr. Richard Patrick', 'Glen Burnie Eyecare', 'DR BLACKBURN', 'DR SALVATORE F ABRIOLA', 'ACKERSON VANDERHORST EDDELBLUTE EYECARE CENTER, INC', 'Aldridge Eye Institute', 'Sewickley Eye Group', 'MyEyeDr-HENDERSON', 'FARRAGUT EYE CLINIC', 'Dr. J Brent Altfillisch O.D. PC', 'Optical Gallery EyeCare & Laser Management', 'Anderson Eye Care', 'DR PHILIP R ANDRUS', 'Antelpoe Mall Vision Center Optometry', 'Handel Vision Clinic in Green', 'Cardinal Family Eye Care, LLC', 'Legacy Eyecare, Inc', 'Arsulowicz Eye Care', 'Thomas H Berenson, OD, PC', 'BRET W. HARRISON OD', 'AVANT OPTOMETRY', 'Gunbarrel Optometry', 'BALIAN OPTICAL CENTER', 'KRASEMANN EYE CENTER', 'Lifetime Eyecare Optometry', 'AFFORDABLE VISION', 'Sanford Eye Baudette', 'DR RUSSELL W BEATTIE JR', 'Vision Source', 'Kauai Optometric Center LLC', 'Bell Eye Care', 'Sanford Eye Downtown Bemidji', 'DR DANIEL W BERRY', 'DR DAVID BETER', 'Bigley Eyec are Associates', 'BIONDOLILLO EYE CARE LLC', 'DR GREGORY L BITTNER', 'MyEyeDr-ROCK HILL', 'MyEyeDr-RESTON', 'Clemmons Family Eye Care', 'Bonsett-Veal Vision Source', 'Vision Source Geneseo', 'Advanced Eyecare of Cary', 'MyEyeDr-BOWIE', 'MyEyeDr-LAURINBURG', 'MyEyeDr-BURLINGTON', \"DR HARRELL'S OFFICE\", 'Christine P. Batchelor O.D.', 'BROST & STROHMEYER FAMILY EYE CARE', 'BRATTIS VISION CLINIC', 'Webster Eye Care Associates', 'Drs. Brutto & Goundie, P.C.', 'BROST & STROHMEYER FAMILY EYE CARE', 'DR COY BROWN', 'BROWN OPTICIANS', 'Dr Ronda Ruscett Eyecare', 'VISION CARE CLINIC PC', 'HICKS BRUNSON EYEWEAR', 'DR JOHN A BRYANT', 'DR BRYAN W BUELL', 'Ideal Eye Care', 'Preferred Eye Care', 'DR HAMP BURNEY', 'UES Optical', 'Professional Eyecare Center', 'Ardmore Health Clinic', 'MOUNT VERNON EYE CENTER', 'Eye Site of Lima', 'MCBRIDE VISON CLINIC', 'Carmine Vision Care', 'MyEyeDr-KERNERSVILLE', 'CASEY OPTICAL COMPANY', 'Kaluzne Vision Care', 'IlliniEye', 'DR. James P. Cheslock', 'MyEyeDr-BETHESDA', 'Taylor Eyecare', 'DR ELIZABETH CHRISTENSEN', 'South Bay Optometry, Inc', 'Mt Airy Vision Center', 'MyEyeDr-KINGSLAND', 'BREVARD VISION ASSOCIATES', 'DR BARRY COHEN', 'COMPTON & COMPTON EYECARE', 'North Main Eyecare', 'MyEyeDr-WARRENSVILLE HEIGHTS', 'DR EDWARD B COOPER', 'DR EMMETT COSGROVE', 'Allen Eye Associates', 'INDUSTRIAL OPTICAL', 'JOSEPH FOLLOWELL OD', 'TARBORO EYE ASSOCIATES', 'Evansville Eyecare Associates, Inc.', 'Sullivan Optometry', 'CUTLERVILLE EYECARE', 'CZINDER EYE CARE, PC', 'Roberts Optical Ltd.', 'DAVENPORT VISION CLINIC', 'DR JAMES BARTON', 'DR DON DIEHL', 'WESTLAND EYECARE', 'MyEyeDr-MADISON', 'MyEyeDr-WAKE FOREST', 'MyEyeDr-WASHINGTON', 'VISION CARE ASSOCIATES', 'Wauseon Eye Care', 'Tillman Family Eye Care', 'Newton Eye Care', 'Vision Source Walla Walla Dr. Davis and Dr. Wiessner', 'VISION SOURCE EAST', 'WILLIAMS EYE INSTITUTE', 'DR KENNETH DETRING', 'DRS. JOANNE & TEM GRONQUIST OPTOMETRISTS', 'MyEyeDr-ELDERSBURG', 'MyEyeDr-WILMINGTON', 'Cool Springs Eyecare', 'Atlas EyeCenter', 'Nolana Eye Care', 'Dubuque Family Eye Care', 'ANNISTON EYE CLINIC', 'Dr. Nora Chan', 'Roger Christian Ede, O.D., Inc.', 'MyEyeDr-MCLEAN', 'EDWARD M SCOTT', 'Eye Associates of Cayce', \"Ashland's Optical Expressions, PC\", 'DR BETHANY B LYN', 'Carlyle D. Haywood Jr. OD', 'MyEyeDr-WASHINGTON', 'Optometric Care Associates', 'PROFESSIONAL EYE ASSOCIATES', 'Dr. Evans & Carter', 'DR JAMES D EVANS', 'MyEyeDr-NEW BERN', 'MyEyeDr-CHARLOTTE', 'MyEyeDr-EDEN', 'DR. EDGAR S PEREZ', 'EYECARE CENTER OF MARSHFIELD', 'EYE CENTERS OF FLORIDA-BONITA', 'MyEyeDr-RALEIGH', 'EYE CARE CENTER OF NEWTON', 'MyEyeDr-SAVANNAH', 'Pennsylvania Optometrics', 'EYES Etc.', 'MCLEAN COUNTY EYE CENTER', 'Dr Melvin L Frecker', 'LAKE ORION VISION', 'MyEyeDr-STATESVILLE', 'DRS. PULLEN, WATTS & SHERRILL', 'ALLINA MEDICAL CLINIC OPTICAL', 'Norwalk Eye Care', 'SANDY VISION CARE CENTER', 'DR RANDALL O.D.', 'DR AURORA BARRIGA OD', 'Fidler EyeCare', 'DR Ryan Shea', 'FLUSHING VISION SOURCE', 'MEDICAL ARTS OPTICAL JOHN W FO', 'DR DAVID FOUTCH', 'FOWLE EYECARE ASSOCIATES PLC', 'La Habra Hills Optometry, Inc.', 'THE EYE CLINIC INC', 'MyEyeDr-MINT HILL', 'MyEyeDr-GREENVILLE', 'BROOKSTONE EYE CENTER', \"GALE'S VISION Source\", 'GREEN MOUNTAIN EYE CARE', 'Gardner Eye Care - Vision Source Hickory Hills', 'SOUTHWOOD OPTOMETRY', 'DR. EDGAR S PEREZ', 'MyEyeDr-ROXBORO', 'Melrose Eye Clinic', 'Fossil Creek Vision Clinic', 'Advanced Vision and Achievement Center', 'DR SCOTT GOLDBERG', 'DR DENNIS D GOLDEN', 'Goldthorpe Family Eyecare', 'MyEyeDr-FORESTVILLE', 'C & C Optometry, Inc', 'INVISION EYECARE CENTER', 'DR MICHAEL L GRACE', 'Hector Rios Optometry', 'GRANT Vision Care', 'Charles Wardle OD', 'VISION CARE CENTER OPTOMETRY', 'MyEyeDr-BERWYN HEIGHTS', 'GRIEBENOW EYECARE', 'LOOKING SHARP EYEWEAR & CARE', 'MyEyeDr-BEL AIR', 'MyEyeDr-REIDSVILLE', 'DR ROGER HANSON', 'MyEyeDr-ARLINGTON', 'DR. HALE', 'HAMPTON EYECARE ASSOCIATES P.A.', 'Cleveland Eye Care', 'Columbiana Eye Care', 'HANSEN VISION CENTER', 'DR ALAN HANSEN', 'DR HANSON & BELL', 'DR KEITH MESSING', 'Hartig Hearing Care and Optical', 'Family EyeCare Associates', 'ALLINA MEDICAL CLINIC OPTICAL', 'Visionary Eyecare of Monroe', 'Palos Verdes Family Vision Optometry, Inc.', 'Community Eyecare Center, S.C.', 'DR STUART HELLER', 'Heltsley Eye Care, PLLC', 'Herman Eye Center', 'Billy Wayne Hill, OD, PC', 'EyeCare Associates Optometric Group', 'DR DARYL W HODGES', 'GREAT BRIDGE EYE CARE', 'College Optical', 'Paul R Holland', 'DR LARRY D HOLLE', 'Central Kentucky Optometric Associates', 'DR ROBERT G HOM', 'Midwest City Eye Care Associates PLLC', 'LIGHTHOUSE OPTICAL', 'Eye Care for You', 'MyEyeDr-TALLAHASSEE', 'DR BRANDY DECKARD', 'HACKWORTH FAMILY EYE CARE', 'VISION SOURCE NEW BRAUNFELS', 'DR CHARLES HUNTRESS', 'VISION CARE ASSOCIATES', 'TRIANGLE VISIONS OPTOMETRY', 'Eye MD Monterey', 'JULENS OPTICIANS', 'Baalman Eyecare', 'Dr Jill Anderson & Associates, LLC', 'MyEyeDr-ROCKY MOUNT', 'FAMILY EYECARE ASSOC-Greenville', 'Eye Care Institute', 'Cresco Family Optometry', 'Southwest Eyecare', 'harbor ophthalmology', 'KEIZER VISION SOURCE PC', 'David Ephraim, O.D. , LLC', 'UES Optical', 'UES Optical', 'Vision Center Optometry', 'Harbor View Vollink Eyecare', 'CUSTOMIZED VISION CARE', 'The Eye Site', 'ELLIOT J. KLONSKY OD', 'New Bremen EyeCare, LLC', 'Knapp Eyecare Center', 'KOSKINEN EYE CLINIC', 'DR THOMAS F KRAUEL', \"KREIN & MOEN, O.D.'S\", 'Kyber Optics', 'LA PORTE VISION CENTER', 'Nelsonville Eyecare', 'Freda Chin O.D.,Inc', 'LAKE REGION OPTICIANS', 'Dr. Ashley Lamm David', 'DR STEPHEN ADELSTEIN', 'Vision Source Tulsa', 'DR LEE LEMON', 'DR. DALE G. LERVICK', 'KIRN FAMILY EYE CARE', 'LILLY EYE CARE', 'Lipski Eye Center', 'LOOKING GLASS Eye Clinic', '20/20 VISION CLINIC', 'RIVER TOWN FAMILY EYE CARE', 'MyEyeDr-STATESBORO', 'LUCK OPTICAL LLC', 'LUGENE OPTICIANS', 'DRS LUTHI AND ROSENTRETER', 'PRIMARY EYECARE ASSOCIATES', 'MASSACHUSETTS OPTICiANS INC', 'WEST U VISION', 'W LEE MACKEWIZ OD', 'EYE CONTACT', 'MADRAS VISION SOURCE', 'MAGNUSON HOPKINS EYECARE PC', 'DR RICHARD DOUGLAS', 'Northern Sight Vision Clinic, LLC.', 'FAMILY VISION', 'Dr. Natalie Noble', 'CAROLINA EYE CARE', 'EYECARE CENTER', 'Eyecarecenter', 'Janice I. Jarrett, OD', 'THE DOCTORS EYE CLINIC', 'IRON HORSE OPTOMETRIC GROUP', 'FAMILY EYE CARE PC', 'HARRISON EYE CARE', 'MCDERMOTT OPTICAL', 'MyEyeDr-OLNEY', 'Lemon Grove Optometry', 'Swanson Eye Care', 'OSSIP OPTOMETRY + OPHTHALMOLOGY (NOBLESVILLE WEST)', 'MyEyeDr-CHARLOTTE', 'DR. MILLS', 'Cascade Ophthalmology, P.C.', 'Mondovi Eye & Optical', 'DR NORMAN A MONROE', 'Tri City Vision Center', 'Ladera Ranch Optometry', 'Vision Source - Innovative Eye Care', 'JEKAsset Management,LLC Dr. Jeffrey E Kirchner', 'ROBERT C. MOSS, INC.', 'DR KIMBERLEY CHENEY', 'EMERALD EYECARE', 'EyeDesigns Optometry', 'Oceana NEX Optical Shop', 'PREMIER OPTICS', 'Erik L. Nelson OD Inc', 'DR JOHN WONG', 'Drs. Nestleroad & Roberts / Vision Source', 'DR JEFFREY NESTOR, D.O.,P.C.', 'Sanford Eye Fosston', 'Nevelow Eye Associates', 'WESTMED', 'Nordby Vision Center', 'DR. HERNANDEZ OPTOMETRY', 'Family Eyecare Center', 'MyEyeDr-RALEIGH', 'MyEyeDr-RALEIGH', 'NU VISION', 'PEARLE VISION', 'PEARLE VISION', 'NUVISION', 'PEARLE VISION', 'PEARLE VISION', 'WPOG West Main Plaza', 'Vision Source Hamilton', 'HERITAGE EYE CARE', 'CAMPBELL CUNNINGHAM TAYLOR & HAUN', 'CHICAGOLAND EYE CONSULTANTS', 'Optivision West Oshkosh', 'CT-Southbury', 'MyEyeDr-PIKESVILLE', 'MyEyeDr-GREENVILLE', 'OPTICAL DISPENSARY RACINE', 'Independence Family Eye Care', 'CALLAHAN EYE OPTICAL SHOP', 'SPECS EYECARE', 'Heartland Vision and Hearing', 'MyEyeDr-CENTREVILLE', 'VISION CARE ASSOCIATES', 'VISION CARE ASSOCIATES', 'University Eye Center at Los Angeles', 'OPTOMETRIC ASSOCS-BIG RAPIDS', 'MyEyeDr-GREENVILLE', 'DR GROSSMAN', 'Shakopee Vision Clinic', 'DR. JAY PETERSMA', 'PACIFIC EYECARE OPTOMETRY', 'MONTGOMERY CITY EYE CONSULTANTS OPTOMETRY', 'VISION CARE ASSOCIATES', 'Dr. Cepynsky & Associatees', 'George Bertherman, OD, Inc', 'Southglenn Eyecare', 'Drs. Cowburn and Keppich', 'DR TYLER PHILPOTT', 'CHILD AND FAMILY EYE CARE', 'POMEROY EYECARE P.C.', 'MyEyeDr-DUBLIN', 'SUMMIT EYE CLINIC', 'DRS, HELFMAN & LASKY and Asso.', 'PROFESSIONAL VISION of Ellicott City, Inc', 'DRS. RECORD,RECORD & ASSOCIATE', 'MyEyeDr-DURHAM', 'Vision Source - Innovative Eye Care', 'DR James W REED', 'REED OPTICAL', 'Coquille Vision Center', 'Hixson Eye Care', 'Vision Source, Dr. Rice & Dr. Galloway', 'Empire Optometry', 'Dr. Stephen Ingman', 'RIEMER EYECARE', 'DR DANIEL J ROBINSON', 'IN FOCUS EYE CARE OF ROCKFORD', 'Carolina Optical, LLC', 'NEW VISIONS EYECARE', 'DR MICHAEL BLECHACZ', 'Bay Care Clinic Eye Specialist', 'SOUTHERN COLORADO EYE CARE', 'REEVE-WOODS EYE CENTER', 'Stahl Eye Center', 'Clay Eye Riverside', 'SAN PEDRO EYE CARE', 'TRI-STATE VISION CENTER INC', 'TSO Santa Fe', 'Sarena Eyecare', 'Vision Clinic/ Dr Savin and Associates', 'ABC VISION - Hillsboro', 'ABC VISION - Sherwood', 'Progressive Vision Institute', 'DRS SCHERMER,HUNT & ROGERS', 'Premier Vision Group', 'James Myers OD PC', 'MyEyeDr-GASTONIA', 'The Eyeglass Shoppe', 'Bedford Vision Clinic', 'DR L SHENKIN', 'GROSHART EYE CLINIC', 'MIDWAY EYE', 'MyEyeDr-ARLINGTON', 'DR STEVEN M SIEGEL', 'DR JOHN C SIEGLITZ', 'PRINCETON OPTOMETRY', 'OSSIP OPTOMETRY + OPHTHALMOLOGY (CASTLETON)', 'Dr. Gary Strickland', 'Darrell M. Sipe Opticians and Hearing Aids', 'FAMILY OPTOMETRIC VISION CARE', 'SNOWY RANGE VISION CENTER', 'WILLIAMS & MINT, ODS', 'Advanced Family Eye Care', 'Antioch Eyecare', 'SOUTH FLORIDA VISION #1', 'DR DAVID B SOUZA', 'PARKWAY EYECARE', 'Eye Care Institute', 'RIVERPARK EYECARE', 'Drs. Caywood, Winward & Wyatt', 'Burnsville Family Eye Care', 'MyEyeDr-QUINCY', 'Greene County Vision Centers, Inc.', 'Drs.Cooper and Stibel', 'Eye Institute of Tarzana', 'SHILOH OPTOMETRICS', 'SULLIVAN EYE CARE', 'image eyes optical', 'Boone Trail Optometric Eye Care', 'WINTERS EYECARE', 'EYECARE CENTER OF PRINCETON PLLC', 'Wyntre Brooke Eye Associates Inc', 'EVANS PIGGOTT & FINNEY EYE CARE', 'CHITTENANGO VISION PROFESSIONALS', 'DR. CHRIS TEICHMILLER', 'DR CATHLEEN LIZZA', 'SEVIGNY AND ASSOCIATES', 'Fremont Vision Source', 'DR ROBERT TOOMEY', 'Larry E Tope, O.D.', 'TotalVision Eye Health Center', 'TWIN FALLS EYECENTER', 'Graystone Eye', 'UC BERKELEY TANG EYE CENTER', 'UNIVERSITY OPTICIANS', 'VIsionCare Unlimited', 'VISION GALLERY', 'Greater Thumb Eye Care', 'My Family Eye Care Ltd., P.C.', 'MyEyeDr-BEL AIR', 'MyEyeDr-ABERDEEN', 'MyEyeDr-HAVRE DE GRACE', 'MyEyeDr-EDGEWOOD', 'MyEyeDr-ELKTON', 'MCCORMICK VISION SOURCE', 'CT-Fairfield', 'VISION PEOPLE of Bellmore', 'NEIL WARD, O.D.', 'Eye Care For You, LLC', 'MOORE VISION CLINIC', 'MyEyeDr-WAKE FOREST', 'MyEyeDr-PERRY', 'WALDPORT EYE CARE LLC', 'DR SARAH R. PATIN', 'VISION SPECIALTIES', 'Dobson Optometric Eyecare, PA', 'Southwestern Pennsylvania Eye Center', 'ANNA LAMMERS OD', 'MyEyeDr-CAPE CARTERET', 'SOUTHWEST EYE CARE', 'WHITTINGTON EYE CARE ASSOCIATES', 'YARYAN Eyecare Center', 'Dr. Steven Kas', 'PENINSULA VISION CARE', 'Dr. Steven Wigdor, OD, PA', 'Wigton Eye Care Associates', 'Wigton Eye Care Associates', 'EYE CARE ASSOCIATES', 'Wilson Eyecare Associates', 'ALBERT G. MAR, O.D.', 'WYNNE TERR', 'DR JOHN SHIELDS, OD', 'NW Eyecare Professionals', 'JAMES PIALTOS, O.D.', 'BISCARDI VISION P.C.', 'GERONIMO & LEONG, POC', 'McKenna Family Eye Care', 'Premier Eye Center', 'Family Eye Care Clinic of Bluffton', 'NELSON O. YOSHIOKA JR., OD., INC.', 'GRAND LAKE OPTOMETRY', 'DR. MIROSLAVA ZELEZNIK-LANDIS', 'MyEyeDr-WAYCROSS', 'DR JUDITH A ZELLERS', 'DR CARL E. DOUGHTY', 'MyEyeDr-THOMASVILLE', 'HYDE EYECARE', 'NORTHERN OPTHALMIC ASSOC.', 'EYE CONTACT OPTOMETRY', 'VISIONHEALTH EYECARE CENTER', 'Family Eye Care Association', 'Family Vision Care', 'SINGER SPECS', 'NEWTONEYE', 'VISION SOURCE OF SPENCER', 'BARSTOW OPTOMETRIC EYECARE', 'ALLINA HEALTH CLINIC OPTICAL', 'EyeCare Associates CC', 'OSSIP OPTOMETRY + OPHTHALMOLOGY (BLOOMINGTON', 'MERCY EYECARE-WASHINGTON', 'ADVANCED SIGHT CENTER', 'APPLEBAUM & SILVA', 'Stowe Eyecare', 'Phillips Eye Care', 'DR. CHARLES STINE', 'DR Jill Tanset-Schmidt', 'CT-Cheshire', 'Greene County Vision Centers, Inc.', 'MEDICAL CENTER OPHTHALMOLOGY', 'Family Eye Care', 'BAILEY VISION CLINIC', 'Look On Main', 'Fenton Eye Care', 'VISION CARE ASSOCIATES', 'Visionary Eye Care', 'SPECIALEYES OPTICAL', 'MyEyeDr-OLNEY', 'MyEyeDr-WALDORF', 'MyEyeDr-PRINCE FREDERICK', 'MyEyeDr-WALLACE', 'MyEyeDr-ZEBULON', 'Whittaker Eye Associates', 'VISION CARE ASSOCIATES', 'MyEyeDr-SOUTH HILL', 'Dr. Tavel Kokomo', 'Russ A. Samet, O.D.', 'DRS. WADE & KATIE WEISZ', 'W P EYES INC', 'MyEyeDr-FRONT ROYAL', 'MyEyeDr-CARY', 'Family Vision Care, Dr. Stuever & Dr. Campbell', 'Steckler Eyeacre', 'VERONA Opticians', 'Advanced Eyecare of South Holland', 'MyEyeDr-TALLAHASSEE', 'MyEyeDr-RALEIGH', 'DR. THEODORE H SOBER', 'TSO Memorial', 'MyEyeDr-POTOMAC', 'Vision Institute', 'MyEyeDr-TEMPLE HILLS', 'Drs. Beers and Liu', 'Envision Optometry P.C.', 'EYESENSE', 'UES Optical', 'PEARLE VISION', 'JG Vision Associates', 'MyEyeDr-ALBANY', 'ATLEE GLEATON EYE CARE', 'MyEyeDr-GARNER', 'Sunrise Vision Care', 'MEDICAL VISION INSTITUTE', 'KC EYE SPECIALIST OPT. SHOP', 'NEX Bangor Vision Center', 'Mendez EYE CARE CENTER', 'MyEyeDr-LELAND', 'MIDWEST EYE ASSOCIATES', 'Sweet Obenauf Eye Care', 'Eye Love Optical', 'MyEyeDr-VIENNA', 'Eye-Mart - Owensboro', 'JANSMA FAMILY EYE CARE', 'MyEyeDr-ANNAPOLIS', 'DR GREGG J. BERDY', 'CALIFORNIA EYE CARE', 'EYECARE VISION', 'Texas City Eye Consultants', 'Maynard Eye Care', 'MyEyeDr-CHAPEL HILL', 'VISUALEYES OPTOMETRY', 'Black River Optical', 'MyEyeDr-CARY', 'Eye See Optical', 'MyEyeDr-CONCORD', 'VISION SOURCE', 'Eyecare Associates LLC', 'Eyes on Lane', 'Starling phsicians eye center optical', 'EYECARE GROUP', 'MyEyeDr-SPRINGFIELD', 'Ohio Eye Optometric', 'MyEyeDr-DUNKIRK', 'ALLINA MEDICAL CLINIC OPTICAL', 'MATTHEW WANG OD INC', 'EVANS PIGGOTT & FINNEY EYE CARE', 'Budget Optcial', 'The Optical Dispensary', 'BROST & STROHMEYER FAMILY EYE', 'TOPTON EYE CARE', 'MyEyeDr-RALEIGH', 'Chariho Eye Care Associates', \"D'Angelo Family Eyecare\", 'modern optometry', 'MyEyeDr-TOWSON', 'Scottsdale Eye Physicians & Surgeons', 'DR STEPHEN CHRISTY', 'MyEyeDr-ELLICOTT CITY', 'Salisbury VA', 'Durham VA', 'Rocky Mount Eye', 'PEARLE VISION', 'EVERYTHING OPTICAL', 'CARTHAGE VISION CLINIC', 'Optical Arts', 'NEITZKE EYE CLINIC', 'MyEyeDr-CHARLOTTESVILLE', 'Louisa Eye Care', 'Arnold Family Eyecare', 'ALLINA MEDICAL CLINIC OPTICAL', 'OSSIP OPTOMETRY + OPHTHALMOLOGY (EVANSTON)', 'ACK Eye', 'MyEyeDr-OXON HILL', 'M M C PORT WASHINGTON OPICAL', 'River Lake Clinic', 'SAFETY ACCOUNTS', 'MyEyeDr-BOWIE', 'Strohecker Vision Care', 'DR DEBLASIO /STACY ALMEIDA', 'Visionary Family Eye Care', 'BLENKER FAMILY EYE CARE', 'DR KEVIN BROWN', 'Redfield Vision', 'QUANTUM VISION CENTERS', 'VISION ASSOCIATES', 'DEPOE EYE CENTER', 'Promedica Eyecare', 'MARION EYE CENTER', 'oakland vision center', 'MARION EYE CENTER', 'OPTICAL ARTS CENTER', 'CIGNA VISIONS', 'Vaught Family Eyecare', 'MONROE OPTICAL CENTER', 'Suarez Optical, Inc.', 'INDIANA EYE CARE CENTER', 'L & M OPTICAL COMPANY', 'THE 10TH STREET EYECARE CENTER', \"Cohen's Fashion Optical\", 'MATTHEW WANG OD INC', 'DR. FLOYD FRANKEL', 'EYE Q OPTOMETRIC', 'PEARLE VISION', \"Dr Rosenak's Optical Options, Inc\", 'Specialty Eyecare Group', 'PEARLE VISION/GAINESVILLE VISION', 'SOUTH VALLEY EYE CARE CTR', 'Dr Robert E Downs, O.D.', 'Atlantic Eye Center', 'Eyefit/MyEyeDr.', 'LOWRY EYECARE SPECIALISTS', 'PEARLE VISION', 'Vision Source of Rainbow City', 'MyEyeDr', 'MURPHY-WATSON-BURR EYE CENTER', 'MyEyeDr-SWAINSBORO', 'Eye Care Institute', 'MIDWEST EYE ASSOCIATES', 'DR CURTIS BARE', 'Dr. Tavel Shelbyville', 'Smoky Mountain Eye Care', 'Advanced Eye MDs, PC', 'Park Hill Optical/ Envisage', 'VISION CARE OPTIQUE', 'MIDWEST EYE ASSOCIATES', 'FIVE MILE VALLEY VISION CARE', 'Optical On Main/ Envisage', 'MyEyeDr-RALEIGH', 'VISION GALLERIA', 'RIVERFRONT EYECARE', 'ICARE EYEWEAR', 'MyEyeDr-WOODBRIDGE', 'Drs. Reeves & Stoppel, O.D.', 'Koffler Vision Group', 'Eldredge EyeCare', 'JULIE C MOTES OD', 'Normandy Optical', 'Shippee Family Eye Care', 'Vision Source - Dr. Michael Blackburn', 'MyEyeDr-HARRISONBURG', 'CHISM EYE CLINIC', 'QUEEN CREEK EYE CARE', 'INDIANA VISION CLINIC', 'MyEyeDr-RALEIGH', 'New England Eye Institute', 'HUNTERS HILL EYE CARE CENTER', 'MyEyeDr-MARTINEZ', 'WINSTON EYE CARE', 'Dr. Vincent Vicci', 'Carr Eye Care', 'RODMAN SANDOVAL, O.D.', 'MyEyeDr-RINCON', 'EDOW OPTICAL', 'Chadds Ford Eye Associates', 'LAHEY HEALTH OPTICAL', 'EYEGLASSES.COM', 'DR LAM OD', 'groetken family eye care', 'Optical Boutique', 'WYTHE EYE ASSOCIATES', 'MyEyeDr-SILVER SPRING', 'MyEyeDr-GREER', 'MyEyeDr-STAFFORD', 'MyEyeDr-BURKE', 'Irish Eyes', 'PRO VISION Center', 'Shoultz Eyecare', 'PARKWAY EYE CARE', 'KENNETH A. LANE, OD', 'Virginia Medical Eye Center-Crystal Clear Eye Surgeons', 'MyEyeDr-WILMINGTON', 'EYE TO EYE VISION CENTER', 'UNIVERSITY EYE INSTITUTE', 'EYE CARE FOR YOU', 'MIDWEST EYE ASSOCIATES #4', 'MyEyeDr-PERRY', 'LOVATO EYECARE', 'VISION PRO OPTICAL', 'MyEyeDr-WARNER ROBBINS', 'Jemison Eye Care - Dr. Ferber', 'FAMILY EYE CARE ASSOCIATES', 'MyEyeDr-GASTONIA', 'MyEyeDr-CHARLOTTE', 'MyEyeDr-HARRISONBURG', 'MyEyeDr-CHEVY CHASE', 'MyEyeDr-ROCKVILLE', 'Medstar Eye Institute', 'Don Davis M.D.', 'EAST TEXAS EYE CENTER', 'MILLER VISION SPECIALIST', 'LAGUNA FAMILY OPTOMETRY', 'Donna Chastain, OD', 'UES Optical', 'FL-Clearwater', 'CHERRY HILLS FAMILY EYE CARE, LLC', 'MyEyeDr-WILMINGTON', 'CHARMAIN WEINBERG OD', 'Eye Health Services-Optical', 'MyEyeDr-WASHINGTON', 'Krannawitter Eye Care, PA', 'SAVVY EYES', 'FRISCO FAMILY EYECARE', 'MyEyeDr-GREENVILLE', 'Helena Vision Care, LLC', 'OPTIC GALLERY - GREEN VALLEY', 'OPTOMETRY GROUP LAKELAND', 'Marine Park Family Vision', 'DR PAMELA ANDERSON-LUKE', 'MyEyeDr-FOREST HILL', 'STERRETTANIA OPHTHALMOLOGY', 'RYAN L HIESTERMAN OD LLC', 'TSO Pflugerville', 'Old Town Optometry', 'FAMILY EYE CARE', 'OPTIC GALLERY-EAST', 'Aker Eye Center', 'RENTON VISION CENTER dba WILLOWS EYECARE', 'Lobue LAser and Eye Medical Center', 'Total Eyecare', 'MID FLORIDA EYE ASSOCIATES', 'Vision Source South Hills', 'BRIGHT EYE CARE & VISION DEVELOPMENT', 'Vision Quest Optical', 'DYER VISION CENTER', 'ADVANCED VISION INSTITUTE', 'North Miami Beach Eye Center', 'MyEyeDr-WASHINGTON', 'MOORE OPTOMETRY', 'MyEyeDr-FAIRFAX', 'MyEyeDr-ARLINGTON', 'JERVEY EYE GROUP', 'PREVEA VISION', 'MyEyeDr-VIENNA', 'MARION EYE CENTER', 'DR.GOLDBERG', 'MyEyeDr-CHARLOTTE', 'MyEyeDr-RALEIGH', 'MyEyeDr.', 'MyEyeDr-POOLER', 'MyEyeDr-HUNT VALLEY', 'Southern Vision Care', 'MyEyeDr-VIENNA', 'DAVID E ORSON, OD., PC', 'Eyecare Specialties', 'NORTHLAKE OPTICAL', 'Shields Family eyecare', 'MyEyeDr-APEX', 'Vision Source Santa Monica', 'MADISON AVENUE EYECARE', 'SWANSEA VISION SOURCE', 'PAWTUCKET VISION ASSOCIATES', 'Eye Specialists of Chicago', 'MyEyeDr-GAINESVILLE', 'TJK Vision', 'Greater Thumb Eyecare', 'STEWART FAMILY EYE CARE', 'ACCESSOR EYES', 'MARION EYE CENTER', 'MARION EYE CENTER', 'MyEyeDr-KNIGHTDALE', 'VISION CARE ASSOCIATES', 'VISION CARE ASSOCIATES', 'EYECARE ASSOCIATES OF SF', 'DR SAI WONG OD', 'MyEyeDr-RALEIGH', 'DRS RECORD RECORD PJP PC', 'MyEyeDr-CALIFORNIA', 'MyEyeDr-RALEIGH', 'VISION CARE ASSOCIATES', 'Blaine Family Eye Care', 'WISE EYES', 'SPECIAL EYE CARE', 'MyEyeDr-ROCKVILLE', 'ELAINE LEE OD', 'HAYWOOD Family Eye Care', 'EyeCare Associates of Bartlesville', 'Vision World', 'MyEyeDr-HIGH POINT', 'ENVISION Eyecare & Optique', 'Kartesz Family Eyecare Inc.', 'CASEY EYE OPTICAL-WATERFRONT', 'TSO SHADOW CREEK', 'MyEyeDr-LEESBURG', 'THE EYE DR', 'MARION EYE CENTER', 'MyEyeDr-LORTON', 'VISION CARE ASSOCIATES', 'RidgeView Optometry', 'MyEyeDr-CARY', 'Graystone Eye', 'KATELYN NGUYEN OD', 'VISIONHEALTH EYE CENTER', 'OSSIP - Olio', 'TAYLORMADE EYECARE OPTICAL', 'TotalVision Eye Health Center', 'MyEyeDr-STAFFORD', 'MyEyeDr-ALEXANDRIA', 'CEPERO EYECARE CENTER', 'DIBLER, OD, L.L.C.', 'Yealy Eye Care of Lancaster', 'Centennial Family Eyecare VSP', 'JENSEN EYE ASSOCIATES', 'PETER NESIN, OPTICIAN', 'TAMMY T TULLY, OD PA', 'DONNA K HAAS OD PC', 'Eye Gallery Inc', 'DeBlack Eye Care', 'eye docs cleveland, llc', 'MODERNEYES OPTICAL', 'CAMDEN EYE CARE', 'Lifetime Eyecare Associates', 'MyEyeDr-SILVER SPRING', 'Total EyeCare Centers', 'Virginia Eye Center', 'Advanced VisionCare of Mansfield', 'Central Kentucky Optometric Associates', 'Kimberly Riggs, OD', 'Michael K. Hughes OD', 'MARION EYE CENTER', 'OSSIP OPTOMETRY + OPHTHALMOLOGY (NOBLESVILLE SOUTH)', 'Treasure Coast Eye Associates', 'MyEyeDr-GERMANTOWN', 'MARION EYE CENTER', 'MyEyeDr-FAYETTEVILLE', 'PEARLE VISION CENTER Fleming Island', 'THE CLASSICAL EYE', 'Town Center Vision', 'Healthy Eyes Optometry Inc', 'DR BARNES OPTOMETRY', 'Family Vision Center of Porter', 'MyEyeDr-STERLING', 'HALSTED EYE BOUTIQUE-DR JOANNA SLUSKY', 'CHILDRENS EYE CARE CLINTON', 'TrueLight Eye Care', 'Dr Dan Kosterman', 'Downtown Vision Source', 'MARION EYE CENTER', 'VISION SOURCE OLMOS PARK', 'MyEyeDr-BRUNSWICK', 'MyEyeDr-GERMANTOWN', 'MyEyeDr-LEXINGTON PARK', 'EYEDOCS BROOKVILLE', 'Kajioka Opt', 'Hollier Eyecare', 'Dr. Dopkiss and Assoc.', 'DR. TIM HAMILTON, O.D., F.A.A.O', 'MyEyeDr-WILMINGTON', 'MyEyeDr-MIAMI GARDENS', 'NICOLE WHITAKER, OD', 'MARION EYE CENTER', 'Eye Land Optometry', 'Pearle Vision', 'MARION EYE CENTER', 'CARVER EYE CLINICDR V THONN', 'Site Vision Center', 'South East Eye Vision Source', 'DR ROBERT M HARDY 58783', 'MARION EYE CENTER', 'OPM OF DOVER, INC', 'MARION EYE CENTER', 'DR LEONARD V JACOBY 57446', 'MARION EYE CENTER', 'MARION EYE CENTER', 'MARION EYE CENTER', 'MyEyeDr-MORRISVILLE', 'MyEyeDr-MANASSAS', 'MyEyeDr-ORANGE', 'MARION EYE CENTER', 'MyEyeDr-WINCHESTER', 'MyEyeDr-AUGUSTA', 'KENT VISION CENTERS 58700', 'MyEyeDr-GAITHERSBURG', 'DR DENNIS B RANEY 62294', 'Drs. Cowburn and Keppich', 'DR MICHAEL R WILD 58399', 'MARION EYE CENTER', 'CRYSTAL CLEAR EYE CARE', 'MARION EYE CENTER', 'VanVision Eyecare Center', 'VISION CARE ASSOCIATES', 'Cape Coral Eye Center', 'REGIONAL EYECARE ASSOCIATES-HILLSBORO', 'MARION EYE CENTER', 'MARION EYE CENTER', 'MyEyeDr-WASHINGTON', 'FOCUS VISION OPTOMETRY', 'MARION EYE CENTER', 'THE EYE GALLERY 458', 'MyEyeDr-MANASSAS', 'DR BOBAK J RAFATI 63995', 'Eyedrop Optique', 'GREEN APPLE EYE CARE / BEST OPTICAL LLC', 'MyEyeDr-POOLER', 'Dr. Tavel New Castle', 'Complete Family Eye Care - Carbondale', 'CLEVELAND EYE OPTICAL BOUTIQUE', 'M.E.D. OPTICAL', 'StonewoodVisionSource', 'Dr. Korsgarden O.D. Vision Plus', 'PAUL S JOHNSON, OD, PC', 'MyEyeDr-ARLINGTON', 'VISION CARE ASSOCIATES', 'SUNNYBROOK OPTICAL', 'MyEyeDr-CARY', 'MYVision Optical', 'GRAHAM MCPARTLAND OD', 'CLERMONT OPTICAL', 'Nex Norfolk Optical', 'Peace Eyecare', 'IL-Oak Park', 'HCL OF WEST MICHIGAN LLC', 'Brandywine Vision Associates', 'Randleman Eye Center', 'Vision Rehabilitation Associates P.C.', 'Cedar Valley Eye Care', 'MARION EYE CENTER', 'MARION EYE CENTER', 'MARION EYE CENTER', 'MARION EYE CENTER', 'MARION EYE CENTER', 'MARION EYE CENTER', 'MARION EYE CENTER', 'MARION EYE CENTER', 'VISION CARE ASSOCIATES', 'The Spectacle Shoppe', 'ADVANCED VISION CARE', 'Envisions Eyewear', 'Bastrop Family Eye Care', 'Atwal Eye Care', 'COLUMBIA EYE CONSULTANTS OPTOMETRY', 'VISION CARE ASSOCIATES', 'JIMMY NGUYEN OD PA', 'THE EYE GALLERY EAST COBB', 'DR RONALD E ZYDOWICZ 49896', 'Bella Eye Care Optometry', 'MyEyeDr-KANNAPOLIS', 'Optiworld Medical & Vision Center, LLC', 'Eye Needs', 'OSSIP OPTOMETRY + OPHTHALMOLOGY (SPENCER)', 'DR BRENDA LIFFLAND 69400', 'DR EDWARD L JONES 67153', 'MEDICAL EYEGLASS CENTER', 'EVANS PIGGOTT & FINNEY EYE CARE', 'MyEyeDr-FREDERICK', 'Boston Eye Care Consultants', 'VISION CARE ASSOCIATES', 'MyEyeDr-CHARLOTTE', 'Marano Optical', 'DRS GLENN & GLENN', 'Vision Source Specialists', 'VISION CARE ASSOCIATES', 'Abrams Eye Center', 'In Focus Eyewear', 'Ridgewood Eyewear', 'Frio Family Vision Source', 'EYES BY DESIGN', 'VISION CARE ASSOCIATES', 'FARHAD NASEH MD', 'MyEyeDr-CHARLOTTE', 'MyEyeDr-OAKLAND MILLS', 'FAMILY VISION CARE', 'BETHLEHEM EYE ASSOCIATES', 'MODERN EYEZ', \"DR SAM'S EYE CARE\", 'The Sight Center North Huntingdon', '20/20 Optometric Eye Care', 'Dr. Tavel Lafayette Road', 'VISION CARE ASSOCIATES', 'MyEyeDr-JEFFERSON', 'MOUNTAIN VIEW OPTICAL', 'THIRD STREET EYECARE', 'Dr. Tavel Bloomington', 'DR BERNARD J PULK 3720', 'DR. RAY S. DIXON', 'MyEyeDr-ABERDEEN', 'Eyecare Associates of San Francisco', 'DR MARK LYNN & ASSOC STORE 555', 'Kresege Eye', 'OPTIC GALLERY CENTENNIAL INC/P', 'Dr. Tavel Muncie', 'GUTMAN VISION', 'OPHTHALMOLOGY ASSOCIATES', 'VISION SOURCE, THOMAS HA OD', 'Graystone Eye', 'MyEyeDr-HYATTSVILLE', 'PRECISION EYE ASSOCIATES', 'Oscar Oglethorpe', 'Oscar Oglethorpe Eyewear', 'Oconee Vision Center', 'MyEyeDr-DURHAM', 'Brier Creek Commons-MyEyeDr', 'BLINK Optical', 'OPTIC GALLERY-ST. ROSE', 'MyEyeDr-WARRENTON', 'BARENBURG EYE ASSOCIATES', 'MyEyeDr-FAIRFAX', 'MyEyeDr-ALEXANDRIA', 'THIEN C VAN & ASSOCIATES OD PC', 'Willis Family Eyecare', 'HB EYECARE CENTER', 'Progressive Vision Institute Oaks', 'DR LEE EYE CLINIC', 'MyEyeDr-MONTICELLO', 'Trinity Vision Care', 'CONTACTS and SPECs', 'OPTIMEYES 341 W BLOOM', 'Healthy Eyes Optometry Inc', 'MyEyeDr-BALTIMORE', 'SUN CITY OPTICAL', 'Dr. Nate Optometrist', 'MARION EYE CENTER', 'SHOOK OPTOMETRY', 'DR MINDY M BLACKFORD 2666', 'MyEyeDr-MECHANICSVILLE', 'CAPTEX VISION', 'MyEyeDr-PRINCE FREDERICK', 'Dr. Tavel Richmond', 'MyEyeDr PLUS-LOUISVILLE', 'TB OPTICAL', 'VISION CARE ASSOCIATES', 'Eye Care Optical, LLC', 'NW Eye Care Professionals', 'MyEyeDr-WALDORF', 'MyEyeDr-CHARLOTTE', 'Vision Source of St. Francis', 'Spectrum Eye Care', 'Dr. Tavel Anderson', 'MyEyeDr-ASHBURN', 'OPTIC GALLERY CENT HILLS', 'Clear Eye Care', 'Plaza Optometry', 'Kodak Lens Dr. Tavel Pyramid Place', 'Bonner Springs Family Eyecare Center', 'VISION PRO OPTICAL', 'OPTICAL SOLUTIONS 2 LLC', 'CLEAR VISION OPTOMETRY PS', 'NORTHWEST VISION GROUP', 'VISION CARE OF ALBANY', 'MARION EYE CENTER', 'JMJ Avenue', 'OSSIP - Fort Wayne', 'Dr. Tavel Chapel Hill', 'Kodak Lens Dr. Tavel Fishers', 'ADVENT EYE CENTER LLC', 'EYE MECHANIZ', 'Grin Eye Care', 'MyEyeDr-LAUREL', 'Cleveland Eyecare', \"Cohen's Fashion Optical\", 'MARION EYE CENTER', 'MyEyeDr-LOUISBURG', 'MyEyeDr-GARNER', 'MyEyeDr-DURHAM', 'MyEyeDr-DURHAM', 'MyEyeDr-HOLLY SPRINGS', 'MyEyeDr-GREENSBORO', 'Eagle Eye Vision Care', 'Insight Vision Center Optometry', 'SENIOR HEALTH SERVICES', 'Alvernon Optical, Inc.', 'Alvernon Optical, Inc.', 'Alvernon Optical, Inc.', 'Alvernon Optical, Inc.', 'R KEVIN LENAHAN OD & ASSOC', 'Sanford Eye International Falls', 'DOWN EAST EYE ASSOCIATES LLC', 'Doris Wong, OD & James F. Williamson, OD, PC', 'MyEyeDr-CRAWFORDVILLE', 'VISION PRO II INC', 'GREEN EYE ASSOCIATES', 'PEARLE VISION 6643', 'PEARLE VISION 6681', 'MyEyeDr-GREENSBORO', 'EYECARECENTER GROUP', 'Brazos Eye Center', 'ARNOLD FAMILY EYE CARE', 'Texas State Optical North Spring', 'C & G EYEWEAR', 'MyEyeDr-MILLEDGEVILLE', 'MyEyeDr-CARY', 'MyEyeDr-DULLES', 'MyEyeDr-HUNTERSVILLE', 'Vision Source Seguin', 'MASSIE OPTOMETRY, O.D.', 'DR ROBERT T SAMUEL OD', 'EYE CENTER OF FLORIDA N FORT', 'Ranch Road Vision Source', 'The Amazing Eyes', 'EYECONIC EYE CARE OPTOMETRY', 'ODO Eye Care', 'ALINA KAGAN OD APC', 'WALL AND HAMILTON OPTOMETRY', 'WPOG LIVONIA', 'WPOG FERNDALE', 'WPOG SOUTHLAND', 'WPOG LAPEER', 'WPOG LAKE ORION', 'WPOG GRANDVILLE', 'WPOG BLOOMINGTON', 'WPOG MISHIWAKA', 'WPOG PLAINFIELD', 'Purcell Health Clinic', 'Tishomingo Health Clinic', 'Drs. Phillip and Lynne Roy & Associates', 'Simply Optometry', 'SABATES EYE CENTER, UNIVERSITY HEALTH', \"VA-Bailey's Crossroads\", 'Deerwood Ophthalmology', 'Atelier Mira', 'Niguel Summit Optometry', 'SAVANNAH VAMC', 'Carrollton VA Outpatient Clinic', 'Intracoastal Eyecare', 'The Optical Shop', 'ANDREW S JUSKO MD PC', 'VISION SOURCE WESTVIEW', 'EYECARE ASSOCIATES']\n"
     ]
    }
   ],
   "source": [
    "from fuzzywuzzy import process\n",
    "from fuzzywuzzy import fuzz\n",
    "\n",
    "PracticeName = []\n",
    "#df_macola = pd.read_csv(r\"C:\\Users\\KC\\Desktop\\WhitespaceProject\\Macola.csv)\n",
    "df_macola_mod = df_macola.dropna(subset=['Practice Name','Account Name'])\n",
    "for index, row in df_macola_mod.iterrows():\n",
    "    AccountName_macola = df_macola.loc[df_macola.index == index, 'Account Name'].iloc[0]\n",
    "    PracticeName_macola = df_macola.loc[df_macola.index == index, 'Practice Name'].iloc[0]\n",
    "    if fuzz.token_set_ratio(AccountName_macola.lower(),PracticeName_macola.lower())<90:\n",
    "        PracticeName.append(PracticeName_macola)\n",
    "\n",
    "print(PracticeName)"
   ]
  },
  {
   "cell_type": "code",
   "execution_count": 17,
   "metadata": {},
   "outputs": [
    {
     "ename": "NameError",
     "evalue": "name 'df_npa' is not defined",
     "output_type": "error",
     "traceback": [
      "\u001b[1;31m---------------------------------------------------------------------------\u001b[0m",
      "\u001b[1;31mNameError\u001b[0m                                 Traceback (most recent call last)",
      "\u001b[1;32m<ipython-input-17-761e9a570c36>\u001b[0m in \u001b[0;36m<module>\u001b[1;34m\u001b[0m\n\u001b[0;32m      4\u001b[0m \u001b[1;33m\u001b[0m\u001b[0m\n\u001b[0;32m      5\u001b[0m \u001b[1;33m\u001b[0m\u001b[0m\n\u001b[1;32m----> 6\u001b[1;33m \u001b[0mdf_npa\u001b[0m\u001b[1;33m\u001b[0m\u001b[1;33m\u001b[0m\u001b[0m\n\u001b[0m",
      "\u001b[1;31mNameError\u001b[0m: name 'df_npa' is not defined"
     ]
    }
   ],
   "source": [
    "#df_npa_stage1 = df_npa_stage1.drop(npa_index)\n",
    "#df_npa = df_npa.drop(npa_index)\n",
    "#df_macola.columns\n",
    "\n",
    "\n",
    "df_npa"
   ]
  },
  {
   "cell_type": "code",
   "execution_count": 7,
   "metadata": {},
   "outputs": [
    {
     "ename": "NameError",
     "evalue": "name 'df_npa_stage1' is not defined",
     "output_type": "error",
     "traceback": [
      "\u001b[1;31m---------------------------------------------------------------------------\u001b[0m",
      "\u001b[1;31mNameError\u001b[0m                                 Traceback (most recent call last)",
      "\u001b[1;32m<ipython-input-7-05ee07048098>\u001b[0m in \u001b[0;36m<module>\u001b[1;34m\u001b[0m\n\u001b[1;32m----> 1\u001b[1;33m \u001b[1;32mfor\u001b[0m \u001b[0mindex\u001b[0m\u001b[1;33m,\u001b[0m \u001b[0mrow\u001b[0m \u001b[1;32min\u001b[0m \u001b[0mdf_npa_stage1\u001b[0m\u001b[1;33m.\u001b[0m\u001b[0miterrows\u001b[0m\u001b[1;33m(\u001b[0m\u001b[1;33m)\u001b[0m\u001b[1;33m:\u001b[0m\u001b[1;33m\u001b[0m\u001b[1;33m\u001b[0m\u001b[0m\n\u001b[0m\u001b[0;32m      2\u001b[0m     \u001b[1;32mfor\u001b[0m \u001b[0mindex1\u001b[0m\u001b[1;33m,\u001b[0m \u001b[0mrow1\u001b[0m \u001b[1;32min\u001b[0m \u001b[0mdf_macola\u001b[0m\u001b[1;33m.\u001b[0m\u001b[0miterrows\u001b[0m\u001b[1;33m(\u001b[0m\u001b[1;33m)\u001b[0m\u001b[1;33m:\u001b[0m\u001b[1;33m\u001b[0m\u001b[1;33m\u001b[0m\u001b[0m\n\u001b[0;32m      3\u001b[0m         \u001b[1;32mif\u001b[0m \u001b[0mfuzz\u001b[0m\u001b[1;33m.\u001b[0m\u001b[0mratio\u001b[0m\u001b[1;33m(\u001b[0m\u001b[0mrow\u001b[0m\u001b[1;33m[\u001b[0m\u001b[1;34m'Provider Organization Name (Legal Business Name)'\u001b[0m\u001b[1;33m]\u001b[0m\u001b[1;33m.\u001b[0m\u001b[0mlower\u001b[0m\u001b[1;33m(\u001b[0m\u001b[1;33m)\u001b[0m\u001b[1;33m,\u001b[0m\u001b[0mrow1\u001b[0m\u001b[1;33m[\u001b[0m\u001b[1;34m'Account Name'\u001b[0m\u001b[1;33m]\u001b[0m\u001b[1;33m.\u001b[0m\u001b[0mlower\u001b[0m\u001b[1;33m(\u001b[0m\u001b[1;33m)\u001b[0m\u001b[1;33m)\u001b[0m\u001b[1;33m>\u001b[0m\u001b[1;36m80\u001b[0m\u001b[1;33m:\u001b[0m\u001b[1;33m\u001b[0m\u001b[1;33m\u001b[0m\u001b[0m\n\u001b[0;32m      4\u001b[0m             \u001b[1;32mif\u001b[0m \u001b[0mfuzz\u001b[0m\u001b[1;33m.\u001b[0m\u001b[0mratio\u001b[0m\u001b[1;33m(\u001b[0m\u001b[0mrow\u001b[0m\u001b[1;33m[\u001b[0m\u001b[1;34m'Provider Business Mailing Address City Name'\u001b[0m\u001b[1;33m]\u001b[0m\u001b[1;33m.\u001b[0m\u001b[0mlower\u001b[0m\u001b[1;33m(\u001b[0m\u001b[1;33m)\u001b[0m\u001b[1;33m,\u001b[0m\u001b[0mrow1\u001b[0m\u001b[1;33m[\u001b[0m\u001b[1;34m'Shipping City'\u001b[0m\u001b[1;33m]\u001b[0m\u001b[1;33m.\u001b[0m\u001b[0mlower\u001b[0m\u001b[1;33m(\u001b[0m\u001b[1;33m)\u001b[0m\u001b[1;33m)\u001b[0m\u001b[1;33m>\u001b[0m\u001b[1;36m80\u001b[0m\u001b[1;33m:\u001b[0m\u001b[1;33m\u001b[0m\u001b[1;33m\u001b[0m\u001b[0m\n\u001b[0;32m      5\u001b[0m                 \u001b[0mprint\u001b[0m\u001b[1;33m(\u001b[0m\u001b[0mrow1\u001b[0m\u001b[1;33m[\u001b[0m\u001b[1;34m'Account Name'\u001b[0m\u001b[1;33m]\u001b[0m\u001b[1;33m,\u001b[0m\u001b[0mrow\u001b[0m\u001b[1;33m[\u001b[0m\u001b[1;34m'Provider Organization Name (Legal Business Name)'\u001b[0m\u001b[1;33m]\u001b[0m\u001b[1;33m)\u001b[0m\u001b[1;33m\u001b[0m\u001b[1;33m\u001b[0m\u001b[0m\n",
      "\u001b[1;31mNameError\u001b[0m: name 'df_npa_stage1' is not defined"
     ]
    }
   ],
   "source": [
    "for index, row in df_npa_stage1.iterrows():\n",
    "    for index1, row1 in df_macola.iterrows():\n",
    "        if fuzz.ratio(row['Provider Organization Name (Legal Business Name)'].lower(),row1['Account Name'].lower())>80:\n",
    "            if fuzz.ratio(row['Provider Business Mailing Address City Name'].lower(),row1['Shipping City'].lower())>80:\n",
    "                print(row1['Account Name'],row['Provider Organization Name (Legal Business Name)'])\n",
    "                print(row1['Shipping City'],row['Provider Business Mailing Address City Name'])\n",
    "            \n",
    "           # print(row['Provider Organization Name (Legal Business Name)'].lower())\n",
    "          #  print(row1['Account Name'].lower())"
   ]
  },
  {
   "cell_type": "code",
   "execution_count": 66,
   "metadata": {},
   "outputs": [
    {
     "data": {
      "text/plain": [
       "Index(['NPI', 'Entity Type Code', 'Replacement NPI',\n",
       "       'Employer Identification Number (EIN)',\n",
       "       'Provider Organization Name (Legal Business Name)',\n",
       "       'Provider Last Name (Legal Name)', 'Provider First Name',\n",
       "       'Provider Middle Name', 'Provider Name Prefix Text',\n",
       "       'Provider Name Suffix Text', 'Provider Credential Text',\n",
       "       'Provider Other Organization Name',\n",
       "       'Provider Other Organization Name Type Code',\n",
       "       'Provider Other Last Name', 'Provider Other First Name',\n",
       "       'Provider Other Middle Name', 'Provider Other Name Prefix Text',\n",
       "       'Provider Other Name Suffix Text', 'Provider Other Credential Text',\n",
       "       'Provider Other Last Name Type Code',\n",
       "       'Provider First Line Business Mailing Address',\n",
       "       'Provider Second Line Business Mailing Address',\n",
       "       'Provider Business Mailing Address City Name',\n",
       "       'Provider Business Mailing Address State Name',\n",
       "       'Provider Business Mailing Address Postal Code',\n",
       "       'Provider Business Mailing Address Country Code (If outside U.S.)',\n",
       "       'Provider Business Mailing Address Telephone Number',\n",
       "       'Provider Business Mailing Address Fax Number',\n",
       "       'Provider First Line Business Practice Location Address',\n",
       "       'Provider Second Line Business Practice Location Address',\n",
       "       'Provider Business Practice Location Address City Name',\n",
       "       'Provider Business Practice Location Address State Name',\n",
       "       'Provider Business Practice Location Address Postal Code',\n",
       "       'Provider Business Practice Location Address Country Code (If outside U.S.)',\n",
       "       'Provider Business Practice Location Address Telephone Number',\n",
       "       'Provider Business Practice Location Address Fax Number',\n",
       "       'Provider Enumeration Date', 'Last Update Date',\n",
       "       'NPI Deactivation Reason Code', 'NPI Deactivation Date',\n",
       "       'NPI Reactivation Date', 'Provider Gender Code',\n",
       "       'Authorized Official Last Name', 'Authorized Official First Name',\n",
       "       'Authorized Official Middle Name',\n",
       "       'Authorized Official Title or Position',\n",
       "       'Authorized Official Telephone Number', 'Is Sole Proprietor',\n",
       "       'Is Organization Subpart', 'Parent Organization LBN',\n",
       "       'Parent Organization TIN', 'Authorized Official Name Prefix Text',\n",
       "       'Authorized Official Name Suffix Text',\n",
       "       'Authorized Official Credential Text'],\n",
       "      dtype='object')"
      ]
     },
     "execution_count": 66,
     "metadata": {},
     "output_type": "execute_result"
    }
   ],
   "source": [
    "cols = ['Account Name', 'Shipping Street', 'Shipping Address Line 1', 'Shipping Address Line 2', 'Shipping Address Line 3', 'Shipping City', 'Shipping State/Province]\n",
    "df_macola['check1'] = df_macola[cols].apply(lambda x: ','.join(x.dropna()), axis=1)\n",
    "#df_macola['check1'] = df_macola['Account Name'].str.cat(df_macola['Shipping Street']).str.cat(df_macola['Shipping City']).str.cat(df_macola['Shipping State/Province'])\n",
    "cols_npa = ['Provider Organization Name (Legal Business Name)', 'Provider First Line Business Mailing Address', 'Provider Second Line Business Mailing Address', 'Provider Business Mailing Address City Name', 'Provider Business Mailing Address State Name']\n",
    "df_npa_stage1['check1'] = df_npa_stage1[cols_npa].apply(lambda y: ','.join(y.dropna()), axis=1)\n",
    "        \n"
   ]
  },
  {
   "cell_type": "code",
   "execution_count": null,
   "metadata": {},
   "outputs": [],
   "source": [
    "Practicedict = {}\n",
    "for item in PracticeName:\n",
    "    for index, row in df_npa_stage1.iterrows():\n",
    "        if row['Provider Organization Name (Legal Business Name)'] == item or row['Provider Other Organization Name'] == item:\n",
    "            print(item)\n",
    "        "
   ]
  },
  {
   "cell_type": "code",
   "execution_count": 88,
   "metadata": {},
   "outputs": [
    {
     "ename": "SyntaxError",
     "evalue": "invalid syntax (<ipython-input-88-5e182bc312d2>, line 6)",
     "output_type": "error",
     "traceback": [
      "\u001b[1;36m  File \u001b[1;32m\"<ipython-input-88-5e182bc312d2>\"\u001b[1;36m, line \u001b[1;32m6\u001b[0m\n\u001b[1;33m    list(map(lambda x: l.keys() if x == (j for j in l.values()), m.keys()))\u001b[0m\n\u001b[1;37m                                                               ^\u001b[0m\n\u001b[1;31mSyntaxError\u001b[0m\u001b[1;31m:\u001b[0m invalid syntax\n"
     ]
    }
   ],
   "source": [
    "l = {1:'a'}\n",
    "m = {a:'k', b:'r'}\n",
    "\n",
    "#v = list(map(lambda l : l.keys if(l[values] == m[keys]) , l.values(),m.keys()))\n",
    "#filter(lambda (key, value): value == k, m.iteritems())\n",
    "list(map(lambda x: l.keys() if x == k, for k,v in m.items())"
   ]
  },
  {
   "cell_type": "code",
   "execution_count": 71,
   "metadata": {},
   "outputs": [
    {
     "data": {
      "text/plain": [
       "[1, 2]"
      ]
     },
     "execution_count": 71,
     "metadata": {},
     "output_type": "execute_result"
    }
   ],
   "source": [
    "d = {'a': 1, 'b': 2}\n",
    "values = list(map(lambda key: d[key], d.keys()))\n",
    "values"
   ]
  },
  {
   "cell_type": "code",
   "execution_count": 15,
   "metadata": {},
   "outputs": [
    {
     "ename": "TypeError",
     "evalue": "'str' object is not callable",
     "output_type": "error",
     "traceback": [
      "\u001b[1;31m---------------------------------------------------------------------------\u001b[0m",
      "\u001b[1;31mTypeError\u001b[0m                                 Traceback (most recent call last)",
      "\u001b[1;32m<ipython-input-15-9ee6e5d03eb5>\u001b[0m in \u001b[0;36m<module>\u001b[1;34m\u001b[0m\n\u001b[0;32m      1\u001b[0m \u001b[1;32mglobal\u001b[0m \u001b[0mstr\u001b[0m\u001b[1;33m\u001b[0m\u001b[1;33m\u001b[0m\u001b[0m\n\u001b[0;32m      2\u001b[0m \u001b[0mstr1\u001b[0m \u001b[1;33m=\u001b[0m \u001b[1;34m'534780gesgseg'\u001b[0m\u001b[1;33m\u001b[0m\u001b[1;33m\u001b[0m\u001b[0m\n\u001b[1;32m----> 3\u001b[1;33m \u001b[0mstr2\u001b[0m \u001b[1;33m=\u001b[0m \u001b[0mstr\u001b[0m\u001b[1;33m(\u001b[0m\u001b[0mstr1\u001b[0m\u001b[1;33m[\u001b[0m\u001b[1;36m0\u001b[0m\u001b[1;33m:\u001b[0m\u001b[1;36m8\u001b[0m\u001b[1;33m]\u001b[0m\u001b[1;33m)\u001b[0m\u001b[1;33m\u001b[0m\u001b[1;33m\u001b[0m\u001b[0m\n\u001b[0m\u001b[0;32m      4\u001b[0m \u001b[0mstr2\u001b[0m\u001b[1;33m\u001b[0m\u001b[1;33m\u001b[0m\u001b[0m\n",
      "\u001b[1;31mTypeError\u001b[0m: 'str' object is not callable"
     ]
    }
   ],
   "source": [
    "global str\n",
    "str1 = '534780gesgseg'\n",
    "str2 = str(str1[0:8])\n",
    "str2"
   ]
  },
  {
   "cell_type": "code",
   "execution_count": null,
   "metadata": {},
   "outputs": [],
   "source": []
  }
 ],
 "metadata": {
  "kernelspec": {
   "display_name": "Python 3",
   "language": "python",
   "name": "python3"
  },
  "language_info": {
   "codemirror_mode": {
    "name": "ipython",
    "version": 3
   },
   "file_extension": ".py",
   "mimetype": "text/x-python",
   "name": "python",
   "nbconvert_exporter": "python",
   "pygments_lexer": "ipython3",
   "version": "3.7.3"
  }
 },
 "nbformat": 4,
 "nbformat_minor": 2
}
